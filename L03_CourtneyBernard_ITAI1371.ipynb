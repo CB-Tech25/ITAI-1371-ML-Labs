{
  "nbformat": 4,
  "nbformat_minor": 0,
  "metadata": {
    "colab": {
      "provenance": [],
      "authorship_tag": "ABX9TyPn5noGgaejfGXU+qlLoM6k",
      "include_colab_link": true
    },
    "kernelspec": {
      "name": "python3",
      "display_name": "Python 3"
    },
    "language_info": {
      "name": "python"
    }
  },
  "cells": [
    {
      "cell_type": "markdown",
      "metadata": {
        "id": "view-in-github",
        "colab_type": "text"
      },
      "source": [
        "<a href=\"https://colab.research.google.com/github/CB-Tech25/ITAI-1371-ML-Labs/blob/main/L03_CourtneyBernard_ITAI1371.ipynb\" target=\"_parent\"><img src=\"https://colab.research.google.com/assets/colab-badge.svg\" alt=\"Open In Colab\"/></a>"
      ]
    },
    {
      "cell_type": "markdown",
      "source": [
        "# Module 3 Lab Excercise: Machine Learning Workflow and Types of Learning\n",
        "\n",
        "## Learning Objectives\n",
        "\n",
        "By the end of this lab you'll be able to:\n",
        "\n",
        "   • Distinguish between supervised, unsupervised, and reinforncement learning\n",
        "\n",
        "   • Understand the complete machine learning workflow\n",
        "\n",
        "   • Build and evacuate your first classification model\n",
        "\n",
        "   • Work with differrent types of data (numerical, categorical, text, images)\n",
        "\n",
        "   • Apply the end-to-end ML process: data → model → evaluation → insights\n",
        "\n",
        "## Prerequisites\n",
        "\n",
        "   • Completed Module 2 (familiar wit Python libraries and Jupyter/Colab)\n",
        "\n",
        "   • understanding of basic data operations and visulaization\n",
        "\n",
        "   • Access to you GitHub repository for saving work"
      ],
      "metadata": {
        "id": "EXjjx6EhSQqZ"
      }
    },
    {
      "cell_type": "markdown",
      "source": [
        "# Part 1: Understanding Types of Machine Learning\n",
        "\n",
        "Machine learning can be categorized into three main types. Let's explore each with practical examples.\n",
        "\n",
        "## 1. Supervised Learning\n",
        "\n",
        "**Definition**: Learning from labeled examples to make preditions on new, unseen data.\n",
        "\n",
        "**Examples**:\n",
        "\n",
        "  • **Classification**: Predicting categories (spa,/not spam, disease/healthy)\n",
        "\n",
        "  • **Regression**: Predicting continuous values (house prices, tempaerature)\n",
        "\n",
        "  **Key Characteristcs**: We have both input feature (X) and correct answers (y) during training.\n",
        "\n",
        "## 2. Unsupervised Learning\n",
        "\n",
        "  **Definition**: Finding hidden patterns in data without labeled examples.\n",
        "\n",
        "  **Examples**:\n",
        "\n",
        "  • **Clustering**: Grouping similiar customers for marketing\n",
        "\n",
        "  • **Dimensionally Reduction**: Simplifying complex data while keeping important information.\n",
        "\n",
        "  **Key Characteristics**: We only have input features (X), no correct answers during training.\n",
        "\n",
        "##  3. Reinforcement Leaning\n",
        "\n",
        "  **Definition**: Learning through trial and error by recieveing rewards or penalties.\n",
        "\n",
        "  **Examples**:\n",
        "  • Game playing (chess, Go)\n",
        "  • Autonomous vehicles\n",
        "  • Reccommendataion systems that learn from user feedback\n",
        "\n",
        "  **Key Characteristics**: Agent learns by interacting with an enviroment and recieveing feedback.\n",
        "  \n",
        "\n",
        "  **For this course, we'll focus primarily on supervised learning, with some unsupervised larning in later moduels.**"
      ],
      "metadata": {
        "id": "cB3o7cJOhN_Y"
      }
    },
    {
      "cell_type": "markdown",
      "source": [
        "# Part 2: Setting Up Our Machine Learning Environment\n",
        "\n",
        "Lets start by importing our ibraries and loading a dataset that will help us understand the ML workflow."
      ],
      "metadata": {
        "id": "mCcBJmVonJ2B"
      }
    },
    {
      "cell_type": "code",
      "source": [
        "# Import essential libraries\n",
        "import pandas as pd\n",
        "import numpy as np\n",
        "import matplotlib.pyplot as plt\n",
        "import seaborn as sns\n",
        "from sklearn.datasets import load_wine, make_classification\n",
        "from sklearn.model_selection import train_test_split\n",
        "from sklearn.linear_model import LogisticRegression\n",
        "from sklearn.tree import DecisionTreeClassifier\n",
        "from sklearn.metrics import accuracy_score, classification_report, confusion_matrix\n",
        "from sklearn.preprocessing import StandardScaler\n",
        "import warnings\n",
        "warnings.filterwarnings(\"ignore\")\n",
        "\n",
        "# Set style for better-looking plots\n",
        "plt.style.use('default')\n",
        "sns.set_palette(\"husl\")\n",
        "\n",
        "print(\"✅ All librarie imported successfully!\")\n",
        "print(\"🚀 Ready to start our machine learning journey!\")"
      ],
      "metadata": {
        "id": "GykrBNrTo1dj",
        "colab": {
          "base_uri": "https://localhost:8080/"
        },
        "outputId": "94e7e65b-79f8-4783-d664-dad29476f05a"
      },
      "execution_count": null,
      "outputs": [
        {
          "output_type": "stream",
          "name": "stdout",
          "text": [
            "✅ All librarie imported successfully!\n",
            "🚀 Ready to start our machine learning journey!\n"
          ]
        }
      ]
    },
    {
      "cell_type": "markdown",
      "source": [
        "# Part 3: Loading and Exploring Our Dataset\n",
        "\n",
        "We'll use the Wine dataset - a classic dataset for clariffication. It contains chemical analysis of wines from three different cultivars (types) grown in Italy."
      ],
      "metadata": {
        "id": "R4l4Er-ytrst"
      }
    },
    {
      "cell_type": "code",
      "source": [
        "# Load the wine dataset\n",
        "wine_data = load_wine ()\n",
        "\n",
        "# Convert to DataFrame for easier handling\n",
        "df = pd.DataFrame(wine_data.data, columns=wine_data.feature_names)\n",
        "df['wine_class'] = wine_data.target\n",
        "df['wine_class_name'] = [wine_data.target_names[i] for i in wine_data.target]\n",
        "\n",
        "print(\"Dataset Information:\")\n",
        "print(f\"Shape: {df.shape}\")\n",
        "print(f\"Features: {len(wine_data.feature_names)}\")\n",
        "print(f\"Classes: {len(wine_data.target_names)}\")\n",
        "print(\"\\nFirst few rows of the dataset:\")\n",
        "print(df.head())"
      ],
      "metadata": {
        "colab": {
          "base_uri": "https://localhost:8080/"
        },
        "id": "bzehzL6VuLBb",
        "outputId": "9e50dd76-c961-47c2-d8d0-6ddbf22a55fa"
      },
      "execution_count": null,
      "outputs": [
        {
          "output_type": "stream",
          "name": "stdout",
          "text": [
            "Dataset Information:\n",
            "Shape: (178, 15)\n",
            "Features: 13\n",
            "Classes: 3\n",
            "\n",
            "First few rows of the dataset:\n",
            "   alcohol  malic_acid   ash  alcalinity_of_ash  magnesium  total_phenols  \\\n",
            "0    14.23        1.71  2.43               15.6      127.0           2.80   \n",
            "1    13.20        1.78  2.14               11.2      100.0           2.65   \n",
            "2    13.16        2.36  2.67               18.6      101.0           2.80   \n",
            "3    14.37        1.95  2.50               16.8      113.0           3.85   \n",
            "4    13.24        2.59  2.87               21.0      118.0           2.80   \n",
            "\n",
            "   flavanoids  nonflavanoid_phenols  proanthocyanins  color_intensity   hue  \\\n",
            "0        3.06                  0.28             2.29             5.64  1.04   \n",
            "1        2.76                  0.26             1.28             4.38  1.05   \n",
            "2        3.24                  0.30             2.81             5.68  1.03   \n",
            "3        3.49                  0.24             2.18             7.80  0.86   \n",
            "4        2.69                  0.39             1.82             4.32  1.04   \n",
            "\n",
            "   od280/od315_of_diluted_wines  proline  wine_class wine_class_name  \n",
            "0                          3.92   1065.0           0         class_0  \n",
            "1                          3.40   1050.0           0         class_0  \n",
            "2                          3.17   1185.0           0         class_0  \n",
            "3                          3.45   1480.0           0         class_0  \n",
            "4                          2.93    735.0           0         class_0  \n"
          ]
        }
      ]
    },
    {
      "cell_type": "code",
      "source": [
        "# Explore the dataset structure\n",
        "print(\"Dataset Overview\")\n",
        "print(\"=\" * 50)\n",
        "print(f\"Total samples: {len(df)}\")\n",
        "print(f\"Target classes: {df['wine_class_name'].unique()}\")\n",
        "print(f\"\\nClass distribution:\")\n",
        "print(df['wine_class_name'].value_counts())\n",
        "\n",
        "# Check for missing values\n",
        "print(f\"\\nMissing values: {df.isnull().sum().sum()}\")\n",
        "print(\"✅ No Missing Values - this is a clean dataset!\")"
      ],
      "metadata": {
        "colab": {
          "base_uri": "https://localhost:8080/"
        },
        "id": "mKgXttRGxO3v",
        "outputId": "692de7d7-52db-4ad8-d62c-0b98358a458e"
      },
      "execution_count": null,
      "outputs": [
        {
          "output_type": "stream",
          "name": "stdout",
          "text": [
            "Dataset Overview\n",
            "==================================================\n",
            "Total samples: 178\n",
            "Target classes: [np.str_('class_0') np.str_('class_1') np.str_('class_2')]\n",
            "\n",
            "Class distribution:\n",
            "wine_class_name\n",
            "class_1    71\n",
            "class_0    59\n",
            "class_2    48\n",
            "Name: count, dtype: int64\n",
            "\n",
            "Missing values: 0\n",
            "✅ No Missing Values - this is a clean dataset!\n"
          ]
        }
      ]
    },
    {
      "cell_type": "markdown",
      "source": [
        "# Part 4: Exploratory Data Analysis (EDA)\n",
        "\n",
        "Before building models, we need to understand our data. This is a crucial step in the ML workflow."
      ],
      "metadata": {
        "id": "atqKCz-C1c5j"
      }
    },
    {
      "cell_type": "code",
      "source": [
        "# Visualize class distribution\n",
        "plt.figure(figsize=(12,4))\n",
        "\n",
        "# Subplot 1: Class distribution\n",
        "plt.subplot(1, 2, 1)\n",
        "class_counts = df['wine_class_name'].value_counts()\n",
        "plt.bar(class_counts.index, class_counts.values, color=['red', 'green', 'blue'])\n",
        "plt.title('Distribution of Wine Classes')\n",
        "plt.xlabel('Wine Class')\n",
        "plt.ylabel('Number of Samples')\n",
        "plt.xticks(rotation=45)\n",
        "\n",
        "# Subplot 2: Feature correlation heatmap (first 6 features for clarity)\n",
        "plt.subplot(1, 2, 2)\n",
        "correlation_matrix = df.iloc[:, :6].corr()\n",
        "sns.heatmap(correlation_matrix, annot=True, cmap='coolwarm', center=0, fmt=' .2f')\n",
        "plt.title('Feature Correlations (First 6 Features)')\n",
        "\n",
        "plt.tight_layout()\n",
        "plt.show()\n",
        "\n",
        "print(\"📊 EDA helps us understand:\")\n",
        "print(\"- Class balance (are all classes equally represented?)\")\n",
        "print(\"- Feature relationships (which features are correlated?)\")\n",
        "print(\"- Data quality (any outliers or issues?)\")"
      ],
      "metadata": {
        "colab": {
          "base_uri": "https://localhost:8080/",
          "height": 333
        },
        "id": "Dw7eFIGH10ze",
        "outputId": "d26e2173-70bd-4996-b77c-98b1995e9d96"
      },
      "execution_count": null,
      "outputs": [
        {
          "output_type": "display_data",
          "data": {
            "text/plain": [
              "<Figure size 1200x400 with 3 Axes>"
            ],
            "image/png": "[encoded data removed]"
          },
          "metadata": {}
        },
        {
          "output_type": "stream",
          "name": "stdout",
          "text": [
            "📊 EDA helps us understand:\n",
            "- Class balance (are all classes equally represented?)\n",
            "- Feature relationships (which features are correlated?)\n",
            "- Data quality (any outliers or issues?)\n"
          ]
        }
      ]
    },
    {
      "cell_type": "markdown",
      "source": [
        "# Part 5: The Complete Machine Learning Workflow\n",
        "\n",
        "Now let's implement the standard ML workflow step by step:\n",
        "\n",
        "The 6-Step ML Workflow:\n",
        "  1. **Data Preparation**: Clean and prepare data\n",
        "  2. **Feature Selection**: Choose relevant input variables\n",
        "  3. **Data Splitting**: Seperate training and testing data\n",
        "  4. **Model Training**: Teach the algorithm using training data\n",
        "  5. **Model Evaluation**: Test performance on unseen data  \n",
        "  6. **Model Interpretation**: Understand what the model learned\n",
        "\n",
        "  Let's implement each step!"
      ],
      "metadata": {
        "id": "6sVC-G6s7ci9"
      }
    },
    {
      "cell_type": "code",
      "source": [
        "# Step 1: Data Preparation\n",
        "print(\"Step 1: Data Preparation\")\n",
        "print(\"=\" * 30)\n",
        "\n",
        "# Select features (X) and target (y)\n",
        "# For simplicity, let's use the first 4 features\n",
        "feature_names = ['alcohol', 'malic_acid', 'alcalinity_of_ash']\n",
        "X = df[feature_names]\n",
        "y = df['wine_class']\n",
        "\n",
        "print(f\"Selected features: {feature_names}\")\n",
        "print(f\"Feature matrix shape: {X.shape}\")\n",
        "print(f\"Target vectore shape: {y.shape}\")\n",
        "\n",
        "# Display the first few rows\n",
        "print(\"\\nFirst 5 samples:\")\n",
        "print(X.head())"
      ],
      "metadata": {
        "colab": {
          "base_uri": "https://localhost:8080/"
        },
        "id": "M16wrv9s8sZ7",
        "outputId": "d2f75787-f733-491c-ac84-163209cdc9ed"
      },
      "execution_count": null,
      "outputs": [
        {
          "output_type": "stream",
          "name": "stdout",
          "text": [
            "Step 1: Data Preparation\n",
            "==============================\n",
            "Selected features: ['alcohol', 'malic_acid', 'alcalinity_of_ash']\n",
            "Feature matrix shape: (178, 3)\n",
            "Target vectore shape: (178,)\n",
            "\n",
            "First 5 samples:\n",
            "   alcohol  malic_acid  alcalinity_of_ash\n",
            "0    14.23        1.71               15.6\n",
            "1    13.20        1.78               11.2\n",
            "2    13.16        2.36               18.6\n",
            "3    14.37        1.95               16.8\n",
            "4    13.24        2.59               21.0\n"
          ]
        }
      ]
    },
    {
      "cell_type": "code",
      "source": [
        "# Step 2: Data Splitting\n",
        "print(\"Step 2: Data Splitting\")\n",
        "print(\"=\" * 30)\n",
        "\n",
        "# Split data into training (80%) and testing (20%) sets\n",
        "X_train, X_test, y_train, y_test = train_test_split(\n",
        "    X,y,\n",
        "    test_size=0.2,      # 20% for testing\n",
        "    random_state=42,    # For reproducible results\n",
        "    stratify=y          # Maintain class proportions\n",
        ")\n",
        "\n",
        "print(f\"Training set: {X_train.shape[0]} samples\")\n",
        "print(f\"Testing set: {X_test.shape[0]} samples\")\n",
        "print(f\"Training classes: {np.bincount(y_train)}\")\n",
        "print(f\"Testing classes: {np.bincount(y_test)}\")\n",
        "\n",
        "print(\"\\n🎯 Why split data?\")\n",
        "print(\"- Training set: Teach the model\")\n",
        "print(\"- Testing set: Evaluate performance on unseen data\")\n",
        "print(\"- This prevents overfitting (memorizing vs, learning)\")"
      ],
      "metadata": {
        "colab": {
          "base_uri": "https://localhost:8080/"
        },
        "id": "2yesv1WB-Su3",
        "outputId": "a8767715-6c97-4e83-d37c-46d175a0ed05"
      },
      "execution_count": null,
      "outputs": [
        {
          "output_type": "stream",
          "name": "stdout",
          "text": [
            "Step 2: Data Splitting\n",
            "==============================\n",
            "Training set: 142 samples\n",
            "Testing set: 36 samples\n",
            "Training classes: [47 57 38]\n",
            "Testing classes: [12 14 10]\n",
            "\n",
            "🎯 Why split data?\n",
            "- Training set: Teach the model\n",
            "- Testing set: Evaluate performance on unseen data\n",
            "- This prevents overfitting (memorizing vs, learning)\n"
          ]
        }
      ]
    },
    {
      "cell_type": "code",
      "source": [
        "# Step 3: Model Training\n",
        "print(\"Step 3: Model Training\")\n",
        "print(\"=\" * 30)\n",
        "\n",
        "# Create and train two different models\n",
        "models = {\n",
        "    'Logistic Regression': LogisticRegression(random_state=42),\n",
        "    'Decision Tree': DecisionTreeClassifier(random_state=42, max_depth=3)\n",
        "}\n",
        "\n",
        "trained_models = {}\n",
        "\n",
        "for name, model in models.items():\n",
        "  print(f\"\\nTraining {name}...\")\n",
        "\n",
        "  # Train the model\n",
        "  model.fit(X_train, y_train)\n",
        "  trained_models[name] = model\n",
        "\n",
        "  print(f\"✅ {name} training complete!\")\n",
        "\n",
        "print(\"\\n🤖 What happened during training?\")\n",
        "print(\"- Models learned patterns from training data\")\n",
        "print(\"- They found relationships between features and wine classes\")\n",
        "print(\"- Now they can make predictions on new data!\")"
      ],
      "metadata": {
        "colab": {
          "base_uri": "https://localhost:8080/"
        },
        "id": "ZlWrx7q-_Vpb",
        "outputId": "ce4a01a0-377c-40d0-c8e2-24b2bb6fcfc4"
      },
      "execution_count": null,
      "outputs": [
        {
          "output_type": "stream",
          "name": "stdout",
          "text": [
            "Step 3: Model Training\n",
            "==============================\n",
            "\n",
            "Training Logistic Regression...\n",
            "✅ Logistic Regression training complete!\n",
            "\n",
            "Training Decision Tree...\n",
            "✅ Decision Tree training complete!\n",
            "\n",
            "🤖 What happened during training?\n",
            "- Models learned patterns from training data\n",
            "- They found relationships between features and wine classes\n",
            "- Now they can make predictions on new data!\n"
          ]
        }
      ]
    },
    {
      "cell_type": "code",
      "source": [
        "# Step 4: Model Evaluation\n",
        "print(\"Step 4: Model Evaluation\")\n",
        "print(\"=\" *30)\n",
        "\n",
        "results = {}\n",
        "\n",
        "for name, model in trained_models.items():\n",
        "  # Make predictions\n",
        "  y_pred = model.predict(X_test)\n",
        "\n",
        "  # Calculate accuracy\n",
        "  accuracy = accuracy_score(y_test, y_pred)\n",
        "  results[name] = accuracy\n",
        "\n",
        "  print(f\"\\n{name} Results:\")\n",
        "  print(f\"Accuracy: {accuracy: .3f} ({accuracy*100: .1f}%)\")\n",
        "\n",
        "  # Compare models\n",
        "  print(\"\\n📊 Model Compariosn:\")\n",
        "  for name, accuracy in results.items():\n",
        "      print(f\"{name}: {accuracy: .3f}\")\n",
        "\n",
        "  best_model = max(results, key=results.get)\n",
        "  print(f\"\\n🏆 Best performing model: {best_model}\")"
      ],
      "metadata": {
        "colab": {
          "base_uri": "https://localhost:8080/"
        },
        "id": "3CQY4tC9F1o0",
        "outputId": "1cfc6dc6-f22b-40e4-ad7f-d7f31ef5c36e"
      },
      "execution_count": null,
      "outputs": [
        {
          "output_type": "stream",
          "name": "stdout",
          "text": [
            "Step 4: Model Evaluation\n",
            "==============================\n",
            "\n",
            "Logistic Regression Results:\n",
            "Accuracy:  0.833 ( 83.3%)\n",
            "\n",
            "📊 Model Compariosn:\n",
            "Logistic Regression:  0.833\n",
            "\n",
            "🏆 Best performing model: Logistic Regression\n",
            "\n",
            "Decision Tree Results:\n",
            "Accuracy:  0.833 ( 83.3%)\n",
            "\n",
            "📊 Model Compariosn:\n",
            "Logistic Regression:  0.833\n",
            "Decision Tree:  0.833\n",
            "\n",
            "🏆 Best performing model: Logistic Regression\n"
          ]
        }
      ]
    },
    {
      "cell_type": "code",
      "source": [
        "# Step 5: Model Interpretation\n",
        "print(\"STep 5: Model Interpretation\")\n",
        "print(\"=\" * 30)\n",
        "\n",
        "# Visualize confusion matrix for the best model\n",
        "best_model_obj = trained_models[best_model]\n",
        "y_pred_best = best_model_obj.predict(X_test)\n",
        "\n",
        "plt.figure(figsize=(8,6))\n",
        "cm = confusion_matrix(y_test, y_pred_best)\n",
        "sns.heatmap(cm, annot=True, fmt='d', cmap='Blues',\n",
        "            xticklabels=wine_data.target_names,\n",
        "            yticklabels=wine_data.target_names)\n",
        "plt.title(f'Confusion Matrix - {best_model}')\n",
        "plt.xlabel('Predicted Class')\n",
        "plt.ylabel('True Class')\n",
        "plt.show()\n",
        "\n",
        "print(f\"\\n🔍 Interpreting the Confusion Matrix:\")\n",
        "print(\"- Diagonal values: Correct predicitons\")\n",
        "print(\"- off-diagnonal values: Misclassification\")\n",
        "print(\"- Perfect model would have all values on diagonal\")"
      ],
      "metadata": {
        "id": "spNuB7WgJF85",
        "colab": {
          "base_uri": "https://localhost:8080/",
          "height": 685
        },
        "outputId": "6d9e04f2-7b31-4dfc-b1df-e5dd3187a711"
      },
      "execution_count": null,
      "outputs": [
        {
          "output_type": "stream",
          "name": "stdout",
          "text": [
            "STep 5: Model Interpretation\n",
            "==============================\n"
          ]
        },
        {
          "output_type": "display_data",
          "data": {
            "text/plain": [
              "<Figure size 800x600 with 2 Axes>"
            ],
            "image/png": "[encoded data removed]"
          },
          "metadata": {}
        },
        {
          "output_type": "stream",
          "name": "stdout",
          "text": [
            "\n",
            "🔍 Interpreting the Confusion Matrix:\n",
            "- Diagonal values: Correct predicitons\n",
            "- off-diagnonal values: Misclassification\n",
            "- Perfect model would have all values on diagonal\n"
          ]
        }
      ]
    },
    {
      "cell_type": "markdown",
      "source": [
        "# Part 6: Understanding Different Data Types in ML\n",
        "\n",
        "Machine learning works with various types of data. let's explore the main categories."
      ],
      "metadata": {
        "id": "GZgOBuCcNjL0"
      }
    },
    {
      "cell_type": "code",
      "source": [
        "# Understanding Different Data Types in ML\n",
        "print(\"Understanding Data Types in Machine Learning\")\n",
        "print(\"=\" * 45)\n",
        "\n",
        "# Create examples of different data types\n",
        "data_examples = {\n",
        "    'Numerical (Continuous)': [23.5, 45.2, 67.8, 12.1, 89.3],\n",
        "    'Numerical (Discrete)': [1, 5, 3, 8, 2],\n",
        "    'Categorical (Nominal)': ['Red', 'Blue', 'Green', 'Red', 'Blue'],\n",
        "    'Categorical (ordinal)': ['Low', 'Medium', 'High', 'Medium', 'Low'],\n",
        "    'Text': ['Hello world', 'Machine learning', 'Data science', 'Python programming', 'AI revolution'],\n",
        "    'Boolean': [True, False, True, True, False]\n",
        "\n",
        "}\n",
        "\n",
        "for data_type, examples in data_examples.items():\n",
        "    print(f\"\\n{data_type}:\")\n",
        "    print(f\" Examples: {examples}\")\n",
        "    print(f\" Use case: \", end=\"\")\n",
        "\n",
        "    if 'Continuous' in data_type:\n",
        "        print(\"Regression problems (predicting prices, temperatures)\")\n",
        "    elif 'Discrete' in data_type:\n",
        "        print(\"Counting problems (number of items, ratings)\")\n",
        "    elif 'Nominal' in data_type:\n",
        "        print(\"Classification without order (colors, categories)\")\n",
        "    elif 'Ordinal' in data_type:\n",
        "        print(\"Classification with order (ratings, sizes)\")\n",
        "    elif 'Text' in data_type:\n",
        "        print(\"Natural language processing (sentimennt analysis, translation)\")\n",
        "    elif 'Boolean' in data_type:\n",
        "        print(\"Binary classification (yes/no spam/not spam)\")\n",
        "\n",
        "print(\"\\n💡 Key Insight: different data types require different preprocessing and algorithms!\")"
      ],
      "metadata": {
        "colab": {
          "base_uri": "https://localhost:8080/"
        },
        "id": "TrRKQ-6xO3N4",
        "outputId": "9a1200a0-aee1-4a1c-ce69-7fd9a442f7bc"
      },
      "execution_count": null,
      "outputs": [
        {
          "output_type": "stream",
          "name": "stdout",
          "text": [
            "Understanding Data Types in Machine Learning\n",
            "=============================================\n",
            "\n",
            "Numerical (Continuous):\n",
            " Examples: [23.5, 45.2, 67.8, 12.1, 89.3]\n",
            " Use case: Regression problems (predicting prices, temperatures)\n",
            "\n",
            "Numerical (Discrete):\n",
            " Examples: [1, 5, 3, 8, 2]\n",
            " Use case: Counting problems (number of items, ratings)\n",
            "\n",
            "Categorical (Nominal):\n",
            " Examples: ['Red', 'Blue', 'Green', 'Red', 'Blue']\n",
            " Use case: Classification without order (colors, categories)\n",
            "\n",
            "Categorical (ordinal):\n",
            " Examples: ['Low', 'Medium', 'High', 'Medium', 'Low']\n",
            " Use case: \n",
            "Text:\n",
            " Examples: ['Hello world', 'Machine learning', 'Data science', 'Python programming', 'AI revolution']\n",
            " Use case: Natural language processing (sentimennt analysis, translation)\n",
            "\n",
            "Boolean:\n",
            " Examples: [True, False, True, True, False]\n",
            " Use case: Binary classification (yes/no spam/not spam)\n",
            "\n",
            "💡 Key Insight: different data types require different preprocessing and algorithms!\n"
          ]
        }
      ]
    },
    {
      "cell_type": "markdown",
      "source": [
        "# Part 7: Hands-On Practice - Build Your Own Model\n",
        "\n",
        "Now it's your turn! Complete the following tasks to reinforce your learning."
      ],
      "metadata": {
        "id": "wc_obRn5V4fz"
      }
    },
    {
      "cell_type": "code",
      "source": [
        "# Task 1: Try different features\n",
        "print(\"Task 1: Experiment with Different Features\")\n",
        "print(\"=\" * 40)\n",
        "\n",
        "# Your Task: Select 3 different features and build a model\n",
        "# Available features:\n",
        "print(\"Available features:\")\n",
        "for i, feature in enumerate(wine_data.feature_names):\n",
        "    print(f\"{i+1:2d}. {feature}\")\n",
        "\n",
        "# TODO: Replace these with your chosen features\n",
        "your_features = ['malic_acid', 'magnesium', 'hue']\n",
        "\n",
        "# Build model with your features\n",
        "X_your = df[your_features]\n",
        "X_train_your, X_test_your, y_train_your, y_test_your = train_test_split(\n",
        "    X_your, y, test_size=0.2, random_state=42, stratify=y\n",
        ")\n",
        "\n",
        "# Train a logistic regression model\n",
        "your_model = LogisticRegression(random_state=42)\n",
        "your_model.fit(X_train_your, y_train_your)\n",
        "\n",
        "# Evaluate the model\n",
        "y_pred_your = your_model.predict(X_test_your)\n",
        "your_accuracy = accuracy_score(y_test_your, y_pred_your)\n",
        "\n",
        "print(f\"\\nYour model features: {your_features}\")\n",
        "print(f\"Your model Accuracy: {your_accuracy: .3f} ({your_accuracy*100: .1f}%)\")"
      ],
      "metadata": {
        "id": "ejl2h_XWWKs_",
        "colab": {
          "base_uri": "https://localhost:8080/"
        },
        "outputId": "47e23751-02f5-4fb2-b0bc-375c34dd3699"
      },
      "execution_count": null,
      "outputs": [
        {
          "output_type": "stream",
          "name": "stdout",
          "text": [
            "Task 1: Experiment with Different Features\n",
            "========================================\n",
            "Available features:\n",
            " 1. alcohol\n",
            " 2. malic_acid\n",
            " 3. ash\n",
            " 4. alcalinity_of_ash\n",
            " 5. magnesium\n",
            " 6. total_phenols\n",
            " 7. flavanoids\n",
            " 8. nonflavanoid_phenols\n",
            " 9. proanthocyanins\n",
            "10. color_intensity\n",
            "11. hue\n",
            "12. od280/od315_of_diluted_wines\n",
            "13. proline\n",
            "\n",
            "Your model features: ['malic_acid', 'magnesium', 'hue']\n",
            "Your model Accuracy:  0.722 ( 72.2%)\n"
          ]
        }
      ]
    },
    {
      "cell_type": "markdown",
      "source": [
        "# Part 8: Assessment - Understanding ML Concepts\n",
        "\n",
        "Answer the following questions to demonstrate your understanding."
      ],
      "metadata": {
        "id": "AiXC5MGpYGez"
      }
    },
    {
      "cell_type": "code",
      "source": [
        "# Assessment Task 1: Identify the ML type\n",
        "print(\"Assessment Task 1: Identify Machine Learning Types\")\n",
        "print(\"=\" * 50)\n",
        "\n",
        "print(\"\"\"Scenarios = [\n",
        "    \"Predicting house prices based on size, location, and age\",\n",
        "    \"Grouping customers by purchasing behavior without knowing groups beforehand\",\n",
        "    \"Teaching a robot to play chess by playing many games\",\n",
        "    \"Classifying emals as spam or not using labeled examples\",\n",
        "    \"Finding hidden topics in news articles without predefined categories\"\n",
        "]\"\"\")\n",
        "\n",
        "your_answers = [\n",
        "    \"Supervised\",     # Scenario 1\n",
        "    \"Unsupervised\",   # scenario 2\n",
        "    \"Reinforcement\",  # Scenario 3\n",
        "    \"Supervised\",     # Scenari 4\n",
        "    \"Unsupervised\"    # scenario 5\n",
        "]\n",
        "\n",
        "# Print your answers\n",
        "print(\"\\nYour Answers:\")\n",
        "print(your_answers)\n",
        "\n",
        "# Check Answers\n",
        "correct_answers = [\"Supervised\", \"Unsupervised\", \"Reinforcement\", \"supervised\", \"Unsupervised\" ]\n",
        "\n",
        "print(\"\\nCorrect Answers:\")\n",
        "print(correct_answers)\n",
        "\n",
        "# You can add code here to compare your answers to the correct answers"
      ],
      "metadata": {
        "colab": {
          "base_uri": "https://localhost:8080/"
        },
        "id": "h8rmd0CBZtZ1",
        "outputId": "d9dc9dc0-7a22-4acf-9b97-13c572bbfc5b"
      },
      "execution_count": null,
      "outputs": [
        {
          "output_type": "stream",
          "name": "stdout",
          "text": [
            "Assessment Task 1: Identify Machine Learning Types\n",
            "==================================================\n",
            "Scenarios = [\n",
            "    \"Predicting house prices based on size, location, and age\",\n",
            "    \"Grouping customers by purchasing behavior without knowing groups beforehand\",\n",
            "    \"Teaching a robot to play chess by playing many games\",\n",
            "    \"Classifying emals as spam or not using labeled examples\",\n",
            "    \"Finding hidden topics in news articles without predefined categories\"\n",
            "]\n",
            "\n",
            "Your Answers:\n",
            "['Supervised', 'Unsupervised', 'Reinforcement', 'Supervised', 'Unsupervised']\n",
            "\n",
            "Correct Answers:\n",
            "['Supervised', 'Unsupervised', 'Reinforcement', 'supervised', 'Unsupervised']\n"
          ]
        }
      ]
    },
    {
      "cell_type": "markdown",
      "source": [
        "# Part 9: Real-World Applications and Case Studies\n",
        "\n",
        "Let's explore how the concepts we've learned apply to real-world scenarios.\n",
        "\n",
        "Case Stude 1: Recommendation Systems (Netflix, Amazon)\n",
        "\n",
        "**Problem**: Suggest movies/products users might like\n",
        "\n",
        "**ML Type**: Hybrid (supervised + Unsupervised + Reinforcement)\n",
        "\n",
        "**Data**: USer ratings, viewing history, product features\n",
        "\n",
        "**Workflow**: Collect data → Build user profiles → Train models → Make recommendations → Learn from feedback\n",
        "\n",
        "Case Study 2: Fraud Detection (Banks, Credit Cards)\n",
        "\n",
        "**Problem**: Identifying fradulent transactions\n",
        "\n",
        "**ML Type**: SUpervised learning (Classification)\n",
        "\n",
        "**Data**: Transaction amounts, locations, times, merchant types\n",
        "\n",
        "**Workfow**: Historical fraud data → Feature engineering → Train classifier → Real-time scoring → Continuos Monitoring\n",
        "\n",
        "Case Study 3: Medical Diagnosis (Healthcare)\n",
        "\n",
        "**Problem**: Assist doctors in diagnosing diseases\n",
        "\n",
        "**ML Types** Supervised learning (Classification)\n",
        "\n",
        "**Data**: Medical Images, patient symptoms, lab results\n",
        "\n",
        "**Workflow**: Labeled medical data → Image processing → Train deep learning models → Clinical validation → Deployment with human oversight\n",
        "\n",
        "Your Turn: Think of Applications\n",
        "\n",
        "Consider these industries and think about how ML could be applied:\n",
        "\n",
        "  • **Transportation**: Autonomous vehicles, route optimization\n",
        "\n",
        "  • **Agriculture**: Crop monitoring, yield prediction\n",
        "\n",
        "  • **Education**: Personalized learning, automated grading\n",
        "\n",
        "  • **Entertainment**; Content creaion, game AI"
      ],
      "metadata": {
        "id": "IeIHhipmYHAR"
      }
    },
    {
      "cell_type": "markdown",
      "source": [
        "# Part 10: Complete ML Workflow Summary\n",
        "\n",
        "Let's summarize the complete machine learning workflow we've learned:\n",
        "\n",
        "### 🔁 The Machine Learning Lifecycle\n",
        "\n",
        "1. Problem Definition:  What is the things that needs to happen.\n",
        "\n",
        "   ↓\n",
        "\n",
        "2. Data Collection & Exploration: Gathers all relevant data, and develops a deep unerstanding.\n",
        "\n",
        "   ↓\n",
        "\n",
        "3. Data Preprocessing & Feature Engineering. Takes messy unclean data and processes it into a language ML can use.\n",
        "   \n",
        "   ↓\n",
        "4. Model selection & Training: Select appropriate algorithms and use training models on prepared data\n",
        "\n",
        "   ↓\n",
        "5. Model Evaluation & Validation:\n",
        "Use cross-validation to ensure best evaluation.\n",
        "\n",
        "   ↓\n",
        "6. Model Development & Monitoring: Carefully moving modules from deployment to production.\n",
        "\n",
        "   ↓\n",
        "7. Continuos Improvement: Continuous monitoring ensures data efficiency over time.\n",
        "\n",
        "\n",
        "### 📋 Checklist for every ML Project:\n",
        "\n",
        "**Data Phase**:\n",
        "\n",
        "  • ▢ Understand the problem and define sucess metrics\n",
        "\n",
        "  • ▢ Collect and explore the dataset\n",
        "\n",
        "  • ▢ Check for missing values, outliers, and data quality issues\n",
        "\n",
        "  • ▢ Visualzie data to understand patterns and relationships\n",
        "\n",
        "  **Modeling Phase**:\n",
        "\n",
        "  • ▢ Split data into training and testing sets\n",
        "\n",
        "  • ▢ Select appropriate algorithms for the problem type\n",
        "\n",
        "  • ▢ Train multiple models and compare performance\n",
        "\n",
        "  • ▢ Evaluate using appropriatemetrics (accuracy, precision, recall, etc.)\n",
        "\n",
        "  **Deployment Phase**:\n",
        "  • ▢ Validate model performance on new data\n",
        "\n",
        "  • ▢ Document the model and its limitations\n",
        "\n",
        "  • ▢ Deploy responsibly with monitoring systems\n",
        "\n",
        "  • ▢ Plan for model updates and maintenance\n",
        "\n",
        "  ### 🎯 Key Takeways:\n",
        "\n",
        "  1. **Start Simple**: Begin with basic models before trying complex ones\n",
        "\n",
        "  2. **Understand Your Data**: EDA is crucial for success\n",
        "\n",
        "  3. **Validate Properly**: Always test on unseen data\n",
        "\n",
        "  4. **Iterate**: ML is an iterative process of improvement\n",
        "\n",
        "  5. **Document Everything**: Keep track of experiemnts and results\n"
      ],
      "metadata": {
        "id": "6717TAzwdglt"
      }
    },
    {
      "cell_type": "markdown",
      "source": [
        "# Lab Summary and Next Steps\n",
        "\n",
        "## 🎯 What you've accomplished:\n",
        "\n",
        "✅ **Understood ML Tpes**: Supervised, Unsupervised, and Reinforcement Learning\n",
        "\n",
        "✅ **Mastered ML Workflow**: Data → Model → Evaluation → Insights\n",
        "\n",
        "✅ **Built Classification Models**: Logistic Regression nd Decision Trees\n",
        "\n",
        "✅ **Evaluated Model Performance:** Accuracy, Confusion Matrix, Classification Report\n",
        "\n",
        "✅ **Worked with Real Data**: Wine dataset analysis and modeling\n",
        "\n",
        "✅ **Applied Best Practices**: Data splitting, model comparision, interpretation\n",
        "\n",
        "### 🚀Preparation for Module 4:\n",
        "\n",
        "In the next lab, you'll dive deeper into:\n",
        "\n",
        "  • **Exploration Data Analysis (EDA)**: Advanced visualization techniques\n",
        "\n",
        "  • **Data Quality Assessment**: Handling missing values, outliers, and duplicates\n",
        "\n",
        "  • **Statistical Analysis**: Understanding distributions and relationships\n",
        "  \n",
        "  • **Data Storytelling**: Communicating insights effectively\n",
        "\n",
        "### 📝 Action Items:\n",
        "  1. **Upload this notebook** to your GitHub repository\n",
        "  2. **Experiment** with different features in the wine dataset\n",
        "  3. **Try otheer datasets** from sklearn.datasets (digits, breast_caner, boston)\n",
        "  4. **Practice** the 6-step ML workflow on a new problem\n",
        "  5. **Document** your experiments and findings\n",
        "\n",
        "  🔗 Additional resources:\n",
        "  • sckikit-learn User Guide\n",
        "  • machine Learning Mastery\n",
        "  • kaggle Learn- free micro course\n",
        "  • Google's Machine Learning Crash Course\n",
        "\n",
        " ### 💭 Reflection Questions:\n",
        "  1. Which typs of machine learning intrest you most?\n",
        "  \n",
        "  Reinforcement intrigues me the most because in ML, my errors have progressed my knowledge the most. Being able to see patterns and learn from error is oddly close to human. I love that aspect.\n",
        "\n",
        "  2. What was the most challenging part of the ML workflow for you?\n",
        "  The errors slowing me down. Trying to fix and correct the problems. Basically when the code dosen't work, Im not sure what the problem is but i have to  figure that out to know where I need to fix.\n",
        "\n",
        "  3. How might you apply these concepts to a problem in your field of interest?\n",
        "\n",
        "  With an autonomous vehicle, I would need all 3 types of learning to solve the problem of self driving. Specifically Supervised learning is used for perception, classification, and imitation of human decisions. Unspervised learning used by sensors fusion to creat a unified view. Reinforcement learning is used for lane keeping, safety overtaking, obstacle avoidance.\n",
        "\n",
        "  4. What questions do you have about machine learning that you'd like to explore furthure?\n",
        "\n",
        "  I guess I am still confused on the process of accessing all of the datasets for fure image selection.\n",
        "\n",
        "\n",
        "  **Congratulations on completing Module 3! You've taken a significant step in your machine learning journey**. 🎉"
      ],
      "metadata": {
        "id": "drpeWgwNnryq"
      }
    }
  ]
}